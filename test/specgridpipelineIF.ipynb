{
 "cells": [
  {
   "cell_type": "code",
   "execution_count": 5,
   "id": "79711906-492b-416d-b7dc-b5ca06ab3d2c",
   "metadata": {},
   "outputs": [
    {
     "data": {
      "text/plain": [
       "1"
      ]
     },
     "execution_count": 5,
     "metadata": {},
     "output_type": "execute_result"
    }
   ],
   "source": [
    "1"
   ]
  },
  {
   "cell_type": "code",
   "execution_count": 1,
   "id": "0e59f172-c74a-4927-bd59-7d1314fdf14c",
   "metadata": {},
   "outputs": [],
   "source": [
    "%load_ext autoreload\n",
    "%autoreload 2"
   ]
  },
  {
   "cell_type": "code",
   "execution_count": 2,
   "id": "f9c357b6-d0db-43c2-a666-49c53a40fa92",
   "metadata": {},
   "outputs": [
    {
     "data": {
      "text/plain": [
       "[None, None]"
      ]
     },
     "execution_count": 2,
     "metadata": {},
     "output_type": "execute_result"
    }
   ],
   "source": [
    "PROJECT_PATH = '/home/swei20/PIML/PIML-SpecGridLearn/'\n",
    "import sys\n",
    "sys.path.insert(0, PROJECT_PATH)\n",
    "[sys.path.append(i) for i in ['.', '..']]"
   ]
  },
  {
   "cell_type": "code",
   "execution_count": 3,
   "id": "abcdf3e0-a64f-43ca-adf8-120ab9d2fa32",
   "metadata": {},
   "outputs": [],
   "source": [
    "import os\n",
    "env_vars = !cat /home/swei20/PIML/PIMLspec/.env\n",
    "for var in env_vars:\n",
    "    key, value = var.split('=')\n",
    "    os.environ[key] = value"
   ]
  },
  {
   "cell_type": "code",
   "execution_count": 4,
   "id": "64c0a56d-2957-4c4c-8c3c-8b75f563732c",
   "metadata": {},
   "outputs": [],
   "source": [
    "import numpy as np\n",
    "import copy\n",
    "import matplotlib.pyplot as plt\n"
   ]
  },
  {
   "cell_type": "code",
   "execution_count": 5,
   "id": "fb404d6e-0dad-4cf1-9b84-eb1a272ca8b1",
   "metadata": {},
   "outputs": [],
   "source": [
    "PARAM={\"step\":10, \"arm\":\"RedM\", \"box_name\":\"R\"}"
   ]
  },
  {
   "cell_type": "code",
   "execution_count": 13,
   "id": "b139bdee-7a72-48b5-9afb-1c90b15511b5",
   "metadata": {},
   "outputs": [],
   "source": [
    "from specgridlearn.gateway.specgridpipelineIF import SpecGridPipelineIF"
   ]
  },
  {
   "cell_type": "code",
   "execution_count": 14,
   "id": "b584affe-2c63-4005-9a2a-774b1b21b2ca",
   "metadata": {},
   "outputs": [],
   "source": [
    "PIF = SpecGridPipelineIF()"
   ]
  },
  {
   "cell_type": "code",
   "execution_count": 15,
   "id": "791c8d2d-aa62-4222-b793-aa3a5f5e331c",
   "metadata": {},
   "outputs": [],
   "source": [
    "PIF.interact(PARAM)"
   ]
  },
  {
   "cell_type": "code",
   "execution_count": 16,
   "id": "9ad0a180-8136-45c4-878f-7034a14ca901",
   "metadata": {},
   "outputs": [
    {
     "data": {
      "text/plain": [
       "{'wave': array([7103.93535, 7111.04302, 7118.15752, 7125.27919, 7132.40811,\n",
       "        7139.54389, 7146.687  , 7153.83731, 7160.99483, 7168.15929,\n",
       "        7175.33091, 7182.50982, 7189.69599, 7196.88931, 7204.08979,\n",
       "        7211.29745, 7218.51226, 7225.73457, 7232.96373, 7240.20049,\n",
       "        7247.4442 , 7254.69511, 7261.95346, 7269.21914, 7276.4919 ,\n",
       "        7283.77212, 7291.05935, 7298.35411, 7305.65621, 7312.96543,\n",
       "        7320.28208, 7327.60596, 7334.9372 , 7342.27588, 7349.62183,\n",
       "        7356.97509, 7364.3357 , 7371.70382, 7379.07911, 7386.46192,\n",
       "        7393.852  , 7401.24956, 7408.65444, 7416.06675, 7423.48657,\n",
       "        7430.91382, 7438.34849, 7445.79043, 7453.23998, 7460.69695,\n",
       "        7468.16133, 7475.63325, 7483.1125 , 7490.59941, 7498.09378,\n",
       "        7505.59557, 7513.10493, 7520.62169, 7528.14614, 7535.67812,\n",
       "        7543.21735, 7550.76451, 7558.31905, 7565.88106, 7573.45084,\n",
       "        7581.02797, 7588.61283, 7596.20528, 7603.80515, 7611.41284,\n",
       "        7619.02807, 7626.65071, 7634.28116, 7641.91939, 7649.56494,\n",
       "        7657.21835, 7664.8796 , 7672.5481 , 7680.22452, 7687.9085 ,\n",
       "        7695.60029, 7703.29981, 7711.00684, 7718.72167, 7726.44439,\n",
       "        7734.1747 , 7741.9125 , 7749.65845, 7757.41197, 7765.1732 ,\n",
       "        7772.94229, 7780.719  , 7788.50362, 7796.29595, 7804.09629,\n",
       "        7811.90425, 7819.71993, 7827.54365, 7835.3751 , 7843.2144 ,\n",
       "        7851.06148, 7858.91654, 7866.77924, 7874.65001, 7882.52856,\n",
       "        7890.41504, 7898.30953, 7906.21167, 7914.12184, 7922.04   ,\n",
       "        7929.96587, 7937.89965, 7945.84154, 7953.79146, 7961.74932,\n",
       "        7969.71485, 7977.68863, 7985.6703 , 7993.65996, 8001.65755,\n",
       "        8009.66314, 8017.6769 , 8025.69848, 8033.72827, 8041.7659 ,\n",
       "        8049.81168, 8057.86547, 8065.92734, 8073.99731, 8082.07545,\n",
       "        8090.16148, 8098.25572, 8106.35781, 8114.46836, 8122.58683,\n",
       "        8130.71359, 8138.84824, 8146.99115, 8155.1423 , 8163.30152,\n",
       "        8171.46886, 8179.64454, 8187.82812, 8196.02002, 8204.22002,\n",
       "        8212.42842, 8220.64502, 8228.86972, 8237.10264, 8245.34386,\n",
       "        8253.59347, 8261.85107, 8270.1169 , 8278.3914 , 8286.67363,\n",
       "        8294.96455, 8303.26357, 8311.571  , 8319.88682, 8328.21085,\n",
       "        8336.54307, 8344.88399, 8353.23292, 8361.59034, 8369.95614,\n",
       "        8378.33026, 8386.71289, 8395.10371, 8403.50303, 8411.91065,\n",
       "        8420.32675, 8428.75118, 8437.18417, 8445.62549, 8454.07539,\n",
       "        8462.5338 , 8471.00058, 8479.4757 , 8487.95928, 8496.45147,\n",
       "        8504.95216, 8513.46153, 8521.9791 , 8530.50556, 8539.04004,\n",
       "        8547.5834 , 8556.13515, 8564.69561, 8573.26473, 8581.8421 ,\n",
       "        8590.42841, 8599.02305, 8607.62627, 8616.23818, 8624.85895,\n",
       "        8633.48799, 8642.12558, 8650.77226, 8659.42724, 8668.091  ,\n",
       "        8676.7632 , 8685.44453, 8694.13429, 8702.83281, 8711.53994,\n",
       "        8720.25576, 8728.98038, 8737.71386, 8746.45578, 8755.20636,\n",
       "        8763.96639, 8772.73448, 8781.51171, 8790.29725, 8799.09229,\n",
       "        8807.89571, 8816.70791, 8825.52901, 8834.359  , 8843.19765]),\n",
       " 'flux': array([[1614790., 1604300., 1606410., ..., 1123880., 1137350., 1126390.],\n",
       "        [1618510., 1607800., 1609990., ..., 1125890., 1139410., 1128420.],\n",
       "        [1622940., 1611910., 1614210., ..., 1128200., 1141800., 1130710.],\n",
       "        ...,\n",
       "        [3484810., 3402720., 3314550., ..., 2161530., 2131210., 2090250.],\n",
       "        [3505460., 3419960., 3334010., ..., 2172310., 2141410., 2100580.],\n",
       "        [3532140., 3441090., 3359260., ..., 2186390., 2154480., 2114040.]]),\n",
       " 'num_pixel': 15404,\n",
       " 'num_spec': 2880,\n",
       " 'arm': 'RedM',\n",
       " 'sky': array([0.15077469, 0.1495934 , 0.14423648, 0.14433482, 0.14747137,\n",
       "        0.14836056, 0.14531086, 0.14922931, 0.14873182, 0.14719386,\n",
       "        0.14742225, 0.14853853, 0.14872931, 0.14798906, 0.14843427,\n",
       "        0.14942387, 0.15094892, 0.15054792, 0.15677576, 0.19068839,\n",
       "        0.17415853, 0.15311395, 0.15320229, 0.16651898, 0.17029691,\n",
       "        0.15508382, 0.18025812, 0.1883331 , 0.16233235, 0.16886398,\n",
       "        0.16669567, 0.15809255, 0.31407816, 0.52847163, 0.16061403,\n",
       "        0.16233161, 0.16050382, 0.16841212, 0.16914596, 0.16412062,\n",
       "        0.1623135 , 0.16355638, 0.17055147, 0.17649125, 0.16981551,\n",
       "        0.16835615, 0.16894306, 0.16776282, 0.1689735 , 0.17108565,\n",
       "        0.21743374, 0.21017425, 0.18578376, 0.17103679, 0.17821553,\n",
       "        0.18634029, 0.19609469, 0.25088166, 0.22023136, 0.19109764,\n",
       "        0.18437969, 0.18709035, 0.17928734, 0.24631951, 0.32752443,\n",
       "        0.17920501, 0.17541241, 0.22140323, 0.18607524, 0.1782438 ,\n",
       "        0.18310485, 0.18102709, 0.17813475, 0.18273535, 0.18308226,\n",
       "        0.20850683, 0.2118021 , 0.18088978, 0.18353911, 0.18650233,\n",
       "        0.19413879, 0.19525158, 0.76060658, 0.41070454, 0.27989433,\n",
       "        0.19448632, 0.19024132, 0.19733519, 0.1963367 , 0.19449762,\n",
       "        0.20845266, 0.19697185, 0.20923709, 0.19921612, 0.2654738 ,\n",
       "        0.24560004, 1.25410509, 0.31016396, 0.19801654, 0.19930584,\n",
       "        0.91599799, 0.33785729, 0.20015064, 0.2026415 , 0.20763698,\n",
       "        0.22937657, 0.2049907 , 0.20525852, 0.21241704, 0.21408006,\n",
       "        0.21688857, 0.21091482, 0.22633555, 0.21669072, 0.80920067,\n",
       "        0.41729497, 0.21616765, 0.21757693, 0.22760183, 0.22037829,\n",
       "        0.23069926, 0.31258083, 0.66164141, 0.23407819, 0.2284911 ,\n",
       "        0.29451444, 0.2552255 , 0.24677304, 0.25061808, 0.27271351,\n",
       "        0.23868046, 0.2942626 , 0.29286793, 0.24830773, 0.25761645,\n",
       "        0.25612404, 0.25562369, 0.31110623, 0.27861942, 0.2818129 ,\n",
       "        0.27547543, 0.26052986, 0.30132864, 0.28439904, 0.2585277 ,\n",
       "        0.26765433, 0.26786594, 0.27126658, 0.2669448 , 0.27765435,\n",
       "        0.28202935, 0.30781825, 0.29414398, 0.32187064, 1.09440948,\n",
       "        0.82300544, 0.46244163, 0.29063734, 0.2874183 , 0.27793168,\n",
       "        0.34223132, 0.52313925, 0.29900544, 0.3011935 , 0.29610237,\n",
       "        0.3016806 , 0.30705132, 0.30734797, 0.33346364, 0.34129663,\n",
       "        0.34182358, 0.36290769, 0.32780384, 0.30921269, 0.31294904,\n",
       "        0.31262137, 0.32121396, 0.31462864, 0.31871594, 0.33745691,\n",
       "        0.3378131 , 0.33997603, 0.34806574, 0.32992386, 0.33393286,\n",
       "        0.46343167, 0.33909138, 0.34069703, 0.34190535, 0.36394823,\n",
       "        0.39202571, 0.35838278, 0.35326057, 0.3993782 , 0.64865861,\n",
       "        0.49148915, 0.42861642, 0.4912762 , 0.50733858, 0.80176853,\n",
       "        0.6440612 , 0.42033427, 0.4062287 , 0.39021821, 0.39096852,\n",
       "        0.39701091, 0.39594507, 0.40866664, 0.42912755, 0.51500606,\n",
       "        0.97947304, 0.48022699, 0.4239523 , 0.42921031, 0.42897342,\n",
       "        0.42817814, 0.43675347, 1.09560973, 0.68419042, 0.44828174]),\n",
       " 'coord': array([[-1.00e+00,  5.50e+03,  2.00e+00, -7.50e-01, -2.50e-01],\n",
       "        [-1.00e+00,  5.50e+03,  2.00e+00, -7.50e-01,  0.00e+00],\n",
       "        [-1.00e+00,  5.50e+03,  2.00e+00, -7.50e-01,  2.50e-01],\n",
       "        ...,\n",
       "        [ 0.00e+00,  6.75e+03,  3.50e+00,  5.00e-01,  0.00e+00],\n",
       "        [ 0.00e+00,  6.75e+03,  3.50e+00,  5.00e-01,  2.50e-01],\n",
       "        [ 0.00e+00,  6.75e+03,  3.50e+00,  5.00e-01,  5.00e-01]]),\n",
       " 'value': array([[1614790., 1604300., 1606410., ..., 1123880., 1137350., 1126390.],\n",
       "        [1618510., 1607800., 1609990., ..., 1125890., 1139410., 1128420.],\n",
       "        [1622940., 1611910., 1614210., ..., 1128200., 1141800., 1130710.],\n",
       "        ...,\n",
       "        [3484810., 3402720., 3314550., ..., 2161530., 2131210., 2090250.],\n",
       "        [3505460., 3419960., 3334010., ..., 2172310., 2141410., 2100580.],\n",
       "        [3532140., 3441090., 3359260., ..., 2186390., 2154480., 2114040.]]),\n",
       " 'unit_coord': array([[0.        , 0.        , 0.        , 0.        , 0.        ],\n",
       "        [0.        , 0.        , 0.        , 0.        , 0.33333333],\n",
       "        [0.        , 0.        , 0.        , 0.        , 0.66666667],\n",
       "        ...,\n",
       "        [1.        , 1.        , 1.        , 1.        , 0.33333333],\n",
       "        [1.        , 1.        , 1.        , 1.        , 0.66666667],\n",
       "        [1.        , 1.        , 1.        , 1.        , 1.        ]]),\n",
       " 'PhyShort': ['M', 'T', 'G', 'C', 'A'],\n",
       " 'dfcoord':         M       T    G     C     A\n",
       " 0    -1.0  5500.0  2.0 -0.75 -0.25\n",
       " 1    -1.0  5500.0  2.0 -0.75  0.00\n",
       " 2    -1.0  5500.0  2.0 -0.75  0.25\n",
       " 3    -1.0  5500.0  2.0 -0.75  0.50\n",
       " 4    -1.0  5500.0  2.0 -0.50 -0.25\n",
       " ...   ...     ...  ...   ...   ...\n",
       " 2875  0.0  6750.0  3.5  0.25  0.50\n",
       " 2876  0.0  6750.0  3.5  0.50 -0.25\n",
       " 2877  0.0  6750.0  3.5  0.50  0.00\n",
       " 2878  0.0  6750.0  3.5  0.50  0.25\n",
       " 2879  0.0  6750.0  3.5  0.50  0.50\n",
       " \n",
       " [2880 rows x 5 columns],\n",
       " 'unify': <function base.center.crust.baseoperation.BuildScalerOperation.get_scalers.<locals>.<lambda>(x)>,\n",
       " 'deunify': <function base.center.crust.baseoperation.BuildScalerOperation.get_scalers.<locals>.<lambda>(x)>,\n",
       " 'map_snr': <scipy.interpolate.interpolate.interp1d at 0x7f05cd94b220>,\n",
       " 'map_snr_inv': <scipy.interpolate.interpolate.interp1d at 0x7f05cd94b310>,\n",
       " 'step': 10,\n",
       " 'res': 1000,\n",
       " 'skyH': array([0.14686077, 0.14686077, 0.14684008, ..., 0.45501659, 0.46869104,\n",
       "        0.47365477]),\n",
       " 'Obs': <spec.center.core.obs.baseobs.Obs at 0x7f05cd8f5ee0>,\n",
       " 'logflux': array([[14.29471548, 14.28819808, 14.28951243, ..., 13.93229754,\n",
       "         13.94421155, 13.93452839],\n",
       "        [14.29701653, 14.29037734, 14.29173853, ..., 13.93408439,\n",
       "         13.94602114, 13.93632898],\n",
       "        [14.29974988, 14.29293037, 14.29435623, ..., 13.936134  ,\n",
       "         13.94811652, 13.93835631],\n",
       "        ...,\n",
       "        [15.06392408, 15.04008567, 15.01383243, ..., 14.58632686,\n",
       "         14.57220045, 14.55279423],\n",
       "        [15.06983231, 15.04513941, 15.01968634, ..., 14.59130168,\n",
       "         14.57697505, 14.55772406],\n",
       "        [15.07741448, 15.05129884, 15.02723127, ..., 14.59776234,\n",
       "         14.58305995, 14.56411137]]),\n",
       " 'box': {'name': 'R',\n",
       "  'min': array([-1.0e+00,  5.5e+03,  2.0e+00, -7.5e-01, -2.5e-01]),\n",
       "  'max': array([0.00e+00, 6.75e+03, 3.50e+00, 5.00e-01, 5.00e-01]),\n",
       "  'rng': array([1.00e+00, 1.25e+03, 1.50e+00, 1.25e+00, 7.50e-01]),\n",
       "  'num': array([4., 5., 3., 5., 3.]),\n",
       "  'mid': array([-5.0e-01,  6.0e+03,  2.5e+00, -2.5e-01,  0.0e+00])},\n",
       " 'interpolator': <function grid.center.crust.model.interpmodel.RBFInterpBuilderGridModel.apply_on_Grid.<locals>.unit_coord_interpolator(eval_coord, scale=True)>,\n",
       " 'interp_storer': <bound method RBFInterpBuilderModel.store of <grid.center.crust.model.interpmodel.RBFInterpBuilderGridModel object at 0x7f05cd8f5040>>}"
      ]
     },
     "execution_count": 16,
     "metadata": {},
     "output_type": "execute_result"
    }
   ],
   "source": [
    "PIF.Object.__dict__"
   ]
  },
  {
   "cell_type": "code",
   "execution_count": 17,
   "id": "3336c79f-3ee4-42cc-9fe0-5bfa6a61bcae",
   "metadata": {},
   "outputs": [],
   "source": [
    "Object = PIF.Object\n",
    "axis=1"
   ]
  },
  {
   "cell_type": "code",
   "execution_count": 18,
   "id": "9cf7625a-07b4-4749-8008-6bf252b7fec5",
   "metadata": {},
   "outputs": [
    {
     "data": {
      "text/plain": [
       "<matplotlib.legend.Legend at 0x7f05cd7c91f0>"
      ]
     },
     "execution_count": 18,
     "metadata": {},
     "output_type": "execute_result"
    },
    {
     "data": {
      "image/png": "[encoded data removed]",
      "text/plain": [
       "<Figure size 432x288 with 1 Axes>"
      ]
     },
     "metadata": {
      "needs_background": "light"
     },
     "output_type": "display_data"
    }
   ],
   "source": [
    "pmt0 = Object.box[\"mid\"]\n",
    "pmt2 = np.copy(pmt0)\n",
    "PHYTICK = [0.25, 250, 0.5, 0.25, 0.25]\n",
    "\n",
    "pmt2[axis] += PHYTICK[axis]\n",
    "pmt1 = 0.5 * (pmt0 + pmt2)\n",
    "\n",
    "flux0 = Object.get_coord_value(pmt0)\n",
    "flux2 = Object.get_coord_value(pmt2)\n",
    "flux1 = Object.interpolator(pmt1)\n",
    "\n",
    "wave = np.arange(len(flux0))\n",
    "plt.plot(wave, flux0, label= pmt0, c='b')\n",
    "plt.plot(wave, flux1, label = pmt1, c='r')\n",
    "plt.plot(wave, flux2, label = pmt2, c='cyan')\n",
    "# plt.xlim(x, x+2204)\n",
    "plt.legend()"
   ]
  },
  {
   "cell_type": "code",
   "execution_count": 19,
   "id": "fa942111-e580-49bc-8c01-eeabe6320193",
   "metadata": {},
   "outputs": [],
   "source": [
    "Object.interp_storer(\"/home/swei20/PIML/PIMLprepNN/test/testdata\")"
   ]
  },
  {
   "cell_type": "code",
   "execution_count": 20,
   "id": "9b0e6d6c-acff-4107-a69e-035dbc9e2b76",
   "metadata": {},
   "outputs": [],
   "source": [
    "from base.interface.gateway.basestorerIF import DataStorerIF"
   ]
  },
  {
   "cell_type": "code",
   "execution_count": 22,
   "id": "16a7f2b8-9a7f-45d2-a3c2-354b46782c7d",
   "metadata": {},
   "outputs": [
    {
     "data": {
      "text/plain": [
       "<spec.center.core.obs.baseobs.Obs at 0x7f05cd8f5ee0>"
      ]
     },
     "execution_count": 22,
     "metadata": {},
     "output_type": "execute_result"
    }
   ],
   "source": [
    "Object.Obs"
   ]
  },
  {
   "cell_type": "code",
   "execution_count": 31,
   "id": "d68443d9-95ae-4769-b5ab-ae8536382f26",
   "metadata": {},
   "outputs": [],
   "source": [
    "storer = DataStorerIF.from_dir(\"/home/swei20/PIML/PIMLprepNN/test/testdata/\", \"Obs\", \".pickle\")\n",
    "storer.store(Object.Obs)"
   ]
  },
  {
   "cell_type": "code",
   "execution_count": 24,
   "id": "528f1e36-4b2b-4a73-9cc9-fbe26462a473",
   "metadata": {},
   "outputs": [],
   "source": [
    "from base.interface.gateway.baseloaderIF import DataLoaderIF"
   ]
  },
  {
   "cell_type": "code",
   "execution_count": 26,
   "id": "9050d416-821a-4420-bf05-54e2587485c0",
   "metadata": {},
   "outputs": [],
   "source": [
    "Obs1 = DataLoaderIF(\"./Obs.pickle\").load()\n"
   ]
  },
  {
   "cell_type": "code",
   "execution_count": 29,
   "id": "6e3faff5-4352-4523-8ab4-21cf753ae17d",
   "metadata": {},
   "outputs": [
    {
     "data": {
      "text/plain": [
       "{'sky': array([0.15077469, 0.1495934 , 0.14423648, 0.14433482, 0.14747137,\n",
       "        0.14836056, 0.14531086, 0.14922931, 0.14873182, 0.14719386,\n",
       "        0.14742225, 0.14853853, 0.14872931, 0.14798906, 0.14843427,\n",
       "        0.14942387, 0.15094892, 0.15054792, 0.15677576, 0.19068839,\n",
       "        0.17415853, 0.15311395, 0.15320229, 0.16651898, 0.17029691,\n",
       "        0.15508382, 0.18025812, 0.1883331 , 0.16233235, 0.16886398,\n",
       "        0.16669567, 0.15809255, 0.31407816, 0.52847163, 0.16061403,\n",
       "        0.16233161, 0.16050382, 0.16841212, 0.16914596, 0.16412062,\n",
       "        0.1623135 , 0.16355638, 0.17055147, 0.17649125, 0.16981551,\n",
       "        0.16835615, 0.16894306, 0.16776282, 0.1689735 , 0.17108565,\n",
       "        0.21743374, 0.21017425, 0.18578376, 0.17103679, 0.17821553,\n",
       "        0.18634029, 0.19609469, 0.25088166, 0.22023136, 0.19109764,\n",
       "        0.18437969, 0.18709035, 0.17928734, 0.24631951, 0.32752443,\n",
       "        0.17920501, 0.17541241, 0.22140323, 0.18607524, 0.1782438 ,\n",
       "        0.18310485, 0.18102709, 0.17813475, 0.18273535, 0.18308226,\n",
       "        0.20850683, 0.2118021 , 0.18088978, 0.18353911, 0.18650233,\n",
       "        0.19413879, 0.19525158, 0.76060658, 0.41070454, 0.27989433,\n",
       "        0.19448632, 0.19024132, 0.19733519, 0.1963367 , 0.19449762,\n",
       "        0.20845266, 0.19697185, 0.20923709, 0.19921612, 0.2654738 ,\n",
       "        0.24560004, 1.25410509, 0.31016396, 0.19801654, 0.19930584,\n",
       "        0.91599799, 0.33785729, 0.20015064, 0.2026415 , 0.20763698,\n",
       "        0.22937657, 0.2049907 , 0.20525852, 0.21241704, 0.21408006,\n",
       "        0.21688857, 0.21091482, 0.22633555, 0.21669072, 0.80920067,\n",
       "        0.41729497, 0.21616765, 0.21757693, 0.22760183, 0.22037829,\n",
       "        0.23069926, 0.31258083, 0.66164141, 0.23407819, 0.2284911 ,\n",
       "        0.29451444, 0.2552255 , 0.24677304, 0.25061808, 0.27271351,\n",
       "        0.23868046, 0.2942626 , 0.29286793, 0.24830773, 0.25761645,\n",
       "        0.25612404, 0.25562369, 0.31110623, 0.27861942, 0.2818129 ,\n",
       "        0.27547543, 0.26052986, 0.30132864, 0.28439904, 0.2585277 ,\n",
       "        0.26765433, 0.26786594, 0.27126658, 0.2669448 , 0.27765435,\n",
       "        0.28202935, 0.30781825, 0.29414398, 0.32187064, 1.09440948,\n",
       "        0.82300544, 0.46244163, 0.29063734, 0.2874183 , 0.27793168,\n",
       "        0.34223132, 0.52313925, 0.29900544, 0.3011935 , 0.29610237,\n",
       "        0.3016806 , 0.30705132, 0.30734797, 0.33346364, 0.34129663,\n",
       "        0.34182358, 0.36290769, 0.32780384, 0.30921269, 0.31294904,\n",
       "        0.31262137, 0.32121396, 0.31462864, 0.31871594, 0.33745691,\n",
       "        0.3378131 , 0.33997603, 0.34806574, 0.32992386, 0.33393286,\n",
       "        0.46343167, 0.33909138, 0.34069703, 0.34190535, 0.36394823,\n",
       "        0.39202571, 0.35838278, 0.35326057, 0.3993782 , 0.64865861,\n",
       "        0.49148915, 0.42861642, 0.4912762 , 0.50733858, 0.80176853,\n",
       "        0.6440612 , 0.42033427, 0.4062287 , 0.39021821, 0.39096852,\n",
       "        0.39701091, 0.39594507, 0.40866664, 0.42912755, 0.51500606,\n",
       "        0.97947304, 0.48022699, 0.4239523 , 0.42921031, 0.42897342,\n",
       "        0.42817814, 0.43675347, 1.09560973, 0.68419042, 0.44828174]),\n",
       " 'step': 10}"
      ]
     },
     "execution_count": 29,
     "metadata": {},
     "output_type": "execute_result"
    }
   ],
   "source": [
    "Object.Obs.__dict__"
   ]
  },
  {
   "cell_type": "code",
   "execution_count": 30,
   "id": "3c3b93a9-6dd9-4013-b322-612d2a31e0ce",
   "metadata": {},
   "outputs": [
    {
     "data": {
      "text/plain": [
       "{'sky': array([0.15077469, 0.1495934 , 0.14423648, 0.14433482, 0.14747137,\n",
       "        0.14836056, 0.14531086, 0.14922931, 0.14873182, 0.14719386,\n",
       "        0.14742225, 0.14853853, 0.14872931, 0.14798906, 0.14843427,\n",
       "        0.14942387, 0.15094892, 0.15054792, 0.15677576, 0.19068839,\n",
       "        0.17415853, 0.15311395, 0.15320229, 0.16651898, 0.17029691,\n",
       "        0.15508382, 0.18025812, 0.1883331 , 0.16233235, 0.16886398,\n",
       "        0.16669567, 0.15809255, 0.31407816, 0.52847163, 0.16061403,\n",
       "        0.16233161, 0.16050382, 0.16841212, 0.16914596, 0.16412062,\n",
       "        0.1623135 , 0.16355638, 0.17055147, 0.17649125, 0.16981551,\n",
       "        0.16835615, 0.16894306, 0.16776282, 0.1689735 , 0.17108565,\n",
       "        0.21743374, 0.21017425, 0.18578376, 0.17103679, 0.17821553,\n",
       "        0.18634029, 0.19609469, 0.25088166, 0.22023136, 0.19109764,\n",
       "        0.18437969, 0.18709035, 0.17928734, 0.24631951, 0.32752443,\n",
       "        0.17920501, 0.17541241, 0.22140323, 0.18607524, 0.1782438 ,\n",
       "        0.18310485, 0.18102709, 0.17813475, 0.18273535, 0.18308226,\n",
       "        0.20850683, 0.2118021 , 0.18088978, 0.18353911, 0.18650233,\n",
       "        0.19413879, 0.19525158, 0.76060658, 0.41070454, 0.27989433,\n",
       "        0.19448632, 0.19024132, 0.19733519, 0.1963367 , 0.19449762,\n",
       "        0.20845266, 0.19697185, 0.20923709, 0.19921612, 0.2654738 ,\n",
       "        0.24560004, 1.25410509, 0.31016396, 0.19801654, 0.19930584,\n",
       "        0.91599799, 0.33785729, 0.20015064, 0.2026415 , 0.20763698,\n",
       "        0.22937657, 0.2049907 , 0.20525852, 0.21241704, 0.21408006,\n",
       "        0.21688857, 0.21091482, 0.22633555, 0.21669072, 0.80920067,\n",
       "        0.41729497, 0.21616765, 0.21757693, 0.22760183, 0.22037829,\n",
       "        0.23069926, 0.31258083, 0.66164141, 0.23407819, 0.2284911 ,\n",
       "        0.29451444, 0.2552255 , 0.24677304, 0.25061808, 0.27271351,\n",
       "        0.23868046, 0.2942626 , 0.29286793, 0.24830773, 0.25761645,\n",
       "        0.25612404, 0.25562369, 0.31110623, 0.27861942, 0.2818129 ,\n",
       "        0.27547543, 0.26052986, 0.30132864, 0.28439904, 0.2585277 ,\n",
       "        0.26765433, 0.26786594, 0.27126658, 0.2669448 , 0.27765435,\n",
       "        0.28202935, 0.30781825, 0.29414398, 0.32187064, 1.09440948,\n",
       "        0.82300544, 0.46244163, 0.29063734, 0.2874183 , 0.27793168,\n",
       "        0.34223132, 0.52313925, 0.29900544, 0.3011935 , 0.29610237,\n",
       "        0.3016806 , 0.30705132, 0.30734797, 0.33346364, 0.34129663,\n",
       "        0.34182358, 0.36290769, 0.32780384, 0.30921269, 0.31294904,\n",
       "        0.31262137, 0.32121396, 0.31462864, 0.31871594, 0.33745691,\n",
       "        0.3378131 , 0.33997603, 0.34806574, 0.32992386, 0.33393286,\n",
       "        0.46343167, 0.33909138, 0.34069703, 0.34190535, 0.36394823,\n",
       "        0.39202571, 0.35838278, 0.35326057, 0.3993782 , 0.64865861,\n",
       "        0.49148915, 0.42861642, 0.4912762 , 0.50733858, 0.80176853,\n",
       "        0.6440612 , 0.42033427, 0.4062287 , 0.39021821, 0.39096852,\n",
       "        0.39701091, 0.39594507, 0.40866664, 0.42912755, 0.51500606,\n",
       "        0.97947304, 0.48022699, 0.4239523 , 0.42921031, 0.42897342,\n",
       "        0.42817814, 0.43675347, 1.09560973, 0.68419042, 0.44828174]),\n",
       " 'step': 10}"
      ]
     },
     "execution_count": 30,
     "metadata": {},
     "output_type": "execute_result"
    }
   ],
   "source": [
    "Obs1.__dict__"
   ]
  },
  {
   "cell_type": "code",
   "execution_count": 34,
   "id": "72e26844-e89a-4029-8b03-286a8f9fe5bb",
   "metadata": {},
   "outputs": [
    {
     "data": {
      "text/plain": [
       "array([0.00025008, 0.00025091, 0.00025074, 0.00025195, 0.00025209,\n",
       "       0.00025104, 0.00025254, 0.00025221, 0.00025182, 0.00025336,\n",
       "       0.00025222, 0.00025356, 0.00025441, 0.00025363, 0.00025295,\n",
       "       0.00025491, 0.00025366, 0.00025501, 0.0002534 , 0.00025414,\n",
       "       0.00025406, 0.00025448, 0.00025477, 0.00025449, 0.00025487,\n",
       "       0.00025533, 0.00025715, 0.00025585, 0.00025581, 0.00025723,\n",
       "       0.00025632, 0.00025723, 0.00025644, 0.00025622, 0.00025674,\n",
       "       0.00025781, 0.00025718, 0.00025729, 0.00025749, 0.00025907,\n",
       "       0.00025962, 0.00025887, 0.00026025, 0.0002609 , 0.000261  ,\n",
       "       0.00025899, 0.00025905, 0.00026108, 0.00025992, 0.00026031,\n",
       "       0.00026049, 0.00026002, 0.00026049, 0.00026063, 0.00026212,\n",
       "       0.000261  , 0.00026286, 0.00026152, 0.00026271, 0.00026201,\n",
       "       0.00026168, 0.00026191, 0.0002633 , 0.00026239, 0.00026368,\n",
       "       0.00026286, 0.00026506, 0.00026318, 0.00026346, 0.00026374,\n",
       "       0.00026577, 0.00026429, 0.00026415, 0.00026444, 0.00026461,\n",
       "       0.00026585, 0.00026891, 0.00026534, 0.00026572, 0.00026574,\n",
       "       0.00026621, 0.00026751, 0.00026794, 0.00026868, 0.00026767,\n",
       "       0.0002671 , 0.00026757, 0.00026982, 0.00026765, 0.00026786,\n",
       "       0.00026885, 0.0002699 , 0.0002693 , 0.00026929, 0.00026927,\n",
       "       0.00026956, 0.00026936, 0.00026996, 0.00027151, 0.00027031,\n",
       "       0.00027045, 0.00027185, 0.00027075, 0.00027099, 0.00027165,\n",
       "       0.00027148, 0.00027168, 0.00027182, 0.00027266, 0.0002726 ,\n",
       "       0.00027275, 0.00027456, 0.00027515, 0.00027332, 0.00027354,\n",
       "       0.00027373, 0.0002739 , 0.00027416, 0.00027436, 0.00027608,\n",
       "       0.0002749 , 0.00027506, 0.00027547, 0.00027616, 0.00027575,\n",
       "       0.00027765, 0.00027623, 0.00027644, 0.00027708, 0.00027708,\n",
       "       0.00027847, 0.00027803, 0.00027761, 0.00027795, 0.00027818,\n",
       "       0.00027837, 0.00027859, 0.00027885, 0.00027916, 0.00027937,\n",
       "       0.00027972, 0.00027994, 0.00028193, 0.0002825 , 0.00028168,\n",
       "       0.00028167, 0.0002829 , 0.00028126, 0.00028223, 0.00028197,\n",
       "       0.00028284, 0.00028236, 0.00028257, 0.00028278, 0.00028304,\n",
       "       0.00028368, 0.00028357, 0.00028409, 0.000284  , 0.00028652,\n",
       "       0.00028619, 0.0002858 , 0.000285  , 0.00028588, 0.00028606,\n",
       "       0.00028619, 0.00028799, 0.0002871 , 0.00028665, 0.00028733,\n",
       "       0.00028731, 0.00028727, 0.00028956, 0.00028908, 0.00028771,\n",
       "       0.00028832, 0.00029233, 0.00028866, 0.0002886 , 0.00029676,\n",
       "       0.00029706, 0.00029156, 0.0002899 , 0.00029043, 0.00029701,\n",
       "       0.00031922, 0.00029214, 0.00029078, 0.00029095, 0.00029187,\n",
       "       0.00029213, 0.00029804, 0.00029288, 0.00029375, 0.00029277,\n",
       "       0.00029249, 0.00029278, 0.00029395, 0.00030017, 0.00031808,\n",
       "       0.00029623, 0.00029462, 0.00029703, 0.00029502, 0.00029562,\n",
       "       0.00029531, 0.00029571, 0.00029591, 0.00029847, 0.00030512,\n",
       "       0.00029839, 0.00029732, 0.00029689, 0.00029785, 0.0002985 ,\n",
       "       0.00030108, 0.00029801, 0.00030041, 0.0002986 , 0.00030007])"
      ]
     },
     "execution_count": 34,
     "metadata": {},
     "output_type": "execute_result"
    }
   ],
   "source": [
    "Object.Obs.get_log_sigma(Object.flux[0])"
   ]
  },
  {
   "cell_type": "code",
   "execution_count": 37,
   "id": "53796865-2a06-401d-afea-d8f82ecdbca6",
   "metadata": {},
   "outputs": [
    {
     "data": {
      "text/plain": [
       "array([0.00025008, 0.00025091, 0.00025074, 0.00025195, 0.00025209,\n",
       "       0.00025104, 0.00025254, 0.00025221, 0.00025182, 0.00025336,\n",
       "       0.00025222, 0.00025356, 0.00025441, 0.00025363, 0.00025295,\n",
       "       0.00025491, 0.00025366, 0.00025501, 0.0002534 , 0.00025414,\n",
       "       0.00025406, 0.00025448, 0.00025477, 0.00025449, 0.00025487,\n",
       "       0.00025533, 0.00025715, 0.00025585, 0.00025581, 0.00025723,\n",
       "       0.00025632, 0.00025723, 0.00025644, 0.00025622, 0.00025674,\n",
       "       0.00025781, 0.00025718, 0.00025729, 0.00025749, 0.00025907,\n",
       "       0.00025962, 0.00025887, 0.00026025, 0.0002609 , 0.000261  ,\n",
       "       0.00025899, 0.00025905, 0.00026108, 0.00025992, 0.00026031,\n",
       "       0.00026049, 0.00026002, 0.00026049, 0.00026063, 0.00026212,\n",
       "       0.000261  , 0.00026286, 0.00026152, 0.00026271, 0.00026201,\n",
       "       0.00026168, 0.00026191, 0.0002633 , 0.00026239, 0.00026368,\n",
       "       0.00026286, 0.00026506, 0.00026318, 0.00026346, 0.00026374,\n",
       "       0.00026577, 0.00026429, 0.00026415, 0.00026444, 0.00026461,\n",
       "       0.00026585, 0.00026891, 0.00026534, 0.00026572, 0.00026574,\n",
       "       0.00026621, 0.00026751, 0.00026794, 0.00026868, 0.00026767,\n",
       "       0.0002671 , 0.00026757, 0.00026982, 0.00026765, 0.00026786,\n",
       "       0.00026885, 0.0002699 , 0.0002693 , 0.00026929, 0.00026927,\n",
       "       0.00026956, 0.00026936, 0.00026996, 0.00027151, 0.00027031,\n",
       "       0.00027045, 0.00027185, 0.00027075, 0.00027099, 0.00027165,\n",
       "       0.00027148, 0.00027168, 0.00027182, 0.00027266, 0.0002726 ,\n",
       "       0.00027275, 0.00027456, 0.00027515, 0.00027332, 0.00027354,\n",
       "       0.00027373, 0.0002739 , 0.00027416, 0.00027436, 0.00027608,\n",
       "       0.0002749 , 0.00027506, 0.00027547, 0.00027616, 0.00027575,\n",
       "       0.00027765, 0.00027623, 0.00027644, 0.00027708, 0.00027708,\n",
       "       0.00027847, 0.00027803, 0.00027761, 0.00027795, 0.00027818,\n",
       "       0.00027837, 0.00027859, 0.00027885, 0.00027916, 0.00027937,\n",
       "       0.00027972, 0.00027994, 0.00028193, 0.0002825 , 0.00028168,\n",
       "       0.00028167, 0.0002829 , 0.00028126, 0.00028223, 0.00028197,\n",
       "       0.00028284, 0.00028236, 0.00028257, 0.00028278, 0.00028304,\n",
       "       0.00028368, 0.00028357, 0.00028409, 0.000284  , 0.00028652,\n",
       "       0.00028619, 0.0002858 , 0.000285  , 0.00028588, 0.00028606,\n",
       "       0.00028619, 0.00028799, 0.0002871 , 0.00028665, 0.00028733,\n",
       "       0.00028731, 0.00028727, 0.00028956, 0.00028908, 0.00028771,\n",
       "       0.00028832, 0.00029233, 0.00028866, 0.0002886 , 0.00029676,\n",
       "       0.00029706, 0.00029156, 0.0002899 , 0.00029043, 0.00029701,\n",
       "       0.00031922, 0.00029214, 0.00029078, 0.00029095, 0.00029187,\n",
       "       0.00029213, 0.00029804, 0.00029288, 0.00029375, 0.00029277,\n",
       "       0.00029249, 0.00029278, 0.00029395, 0.00030017, 0.00031808,\n",
       "       0.00029623, 0.00029462, 0.00029703, 0.00029502, 0.00029562,\n",
       "       0.00029531, 0.00029571, 0.00029591, 0.00029847, 0.00030512,\n",
       "       0.00029839, 0.00029732, 0.00029689, 0.00029785, 0.0002985 ,\n",
       "       0.00030108, 0.00029801, 0.00030041, 0.0002986 , 0.00030007])"
      ]
     },
     "execution_count": 37,
     "metadata": {},
     "output_type": "execute_result"
    }
   ],
   "source": [
    "Obs1.get_log_sigma(Object.logflux[0], log=1)"
   ]
  },
  {
   "cell_type": "code",
   "execution_count": 13,
   "id": "086291df-6336-495d-804f-1f4b20902eff",
   "metadata": {},
   "outputs": [
    {
     "data": {
      "text/plain": [
       "<bound method Obs.get_log_sigma of <spec.center.core.obs.baseobs.Obs object at 0x7f3283a279a0>>"
      ]
     },
     "execution_count": 13,
     "metadata": {},
     "output_type": "execute_result"
    }
   ],
   "source": [
    "PIF.Object.Obs.get_log_sigma"
   ]
  },
  {
   "cell_type": "code",
   "execution_count": null,
   "id": "2fbeb8bc-491d-4dc1-bb3c-7168ac8b2265",
   "metadata": {},
   "outputs": [],
   "source": [
    "np.digitize([7100,8850], wave)"
   ]
  }
 ],
 "metadata": {
  "kernelspec": {
   "display_name": "Python 3 [viska-tf28]",
   "language": "python",
   "name": "python3-viska-tf28"
  },
  "language_info": {
   "codemirror_mode": {
    "name": "ipython",
    "version": 3
   },
   "file_extension": ".py",
   "mimetype": "text/x-python",
   "name": "python",
   "nbconvert_exporter": "python",
   "pygments_lexer": "ipython3",
   "version": "3.9.7"
  }
 },
 "nbformat": 4,
 "nbformat_minor": 5
}
