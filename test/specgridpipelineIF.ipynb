{
 "cells": [
  {
   "cell_type": "code",
   "execution_count": 5,
   "id": "79711906-492b-416d-b7dc-b5ca06ab3d2c",
   "metadata": {},
   "outputs": [
    {
     "data": {
      "text/plain": [
       "1"
      ]
     },
     "execution_count": 5,
     "metadata": {},
     "output_type": "execute_result"
    }
   ],
   "source": [
    "1"
   ]
  },
  {
   "cell_type": "code",
   "execution_count": 1,
   "id": "0e59f172-c74a-4927-bd59-7d1314fdf14c",
   "metadata": {},
   "outputs": [],
   "source": [
    "%load_ext autoreload\n",
    "%autoreload 2"
   ]
  },
  {
   "cell_type": "code",
   "execution_count": 2,
   "id": "f9c357b6-d0db-43c2-a666-49c53a40fa92",
   "metadata": {},
   "outputs": [
    {
     "data": {
      "text/plain": [
       "[None, None]"
      ]
     },
     "execution_count": 2,
     "metadata": {},
     "output_type": "execute_result"
    }
   ],
   "source": [
    "PROJECT_PATH = '/home/swei20/PIML/PIML-SpecGridLearn/'\n",
    "import sys\n",
    "sys.path.insert(0, PROJECT_PATH)\n",
    "[sys.path.append(i) for i in ['.', '..']]"
   ]
  },
  {
   "cell_type": "code",
   "execution_count": 3,
   "id": "abcdf3e0-a64f-43ca-adf8-120ab9d2fa32",
   "metadata": {},
   "outputs": [],
   "source": [
    "import os\n",
    "env_vars = !cat /home/swei20/PIML/PIMLspec/.env\n",
    "for var in env_vars:\n",
    "    key, value = var.split('=')\n",
    "    os.environ[key] = value"
   ]
  },
  {
   "cell_type": "code",
   "execution_count": 4,
   "id": "64c0a56d-2957-4c4c-8c3c-8b75f563732c",
   "metadata": {},
   "outputs": [],
   "source": [
    "import numpy as np\n",
    "import copy\n",
    "import matplotlib.pyplot as plt\n"
   ]
  },
  {
   "cell_type": "code",
   "execution_count": 5,
   "id": "fb404d6e-0dad-4cf1-9b84-eb1a272ca8b1",
   "metadata": {},
   "outputs": [],
   "source": [
    "PARAM={\"step\":10, \"arm\":\"RedM\", \"box_name\":\"R\"}"
   ]
  },
  {
   "cell_type": "code",
   "execution_count": 6,
   "id": "b139bdee-7a72-48b5-9afb-1c90b15511b5",
   "metadata": {},
   "outputs": [
    {
     "ename": "ImportError",
     "evalue": "cannot import name 'SpecParamIF' from 'spec.interface.gateway.specparamIF' (/home/swei20/PIML/PIML-SpecGridLearn/spec/interface/gateway/specparamIF.py)",
     "output_type": "error",
     "traceback": [
      "\u001b[0;31m---------------------------------------------------------------------------\u001b[0m",
      "\u001b[0;31mImportError\u001b[0m                               Traceback (most recent call last)",
      "\u001b[0;32m/tmp/ipykernel_3925036/760582818.py\u001b[0m in \u001b[0;36m<module>\u001b[0;34m\u001b[0m\n\u001b[0;32m----> 1\u001b[0;31m \u001b[0;32mfrom\u001b[0m \u001b[0mspecgridlearn\u001b[0m\u001b[0;34m.\u001b[0m\u001b[0mgateway\u001b[0m\u001b[0;34m.\u001b[0m\u001b[0mspecgridpipelineIF\u001b[0m \u001b[0;32mimport\u001b[0m \u001b[0mSpecGridPipelineIF\u001b[0m\u001b[0;34m\u001b[0m\u001b[0;34m\u001b[0m\u001b[0m\n\u001b[0m",
      "\u001b[0;32m~/PIML/PIML-SpecGridLearn/specgridlearn/gateway/specgridpipelineIF.py\u001b[0m in \u001b[0;36m<module>\u001b[0;34m\u001b[0m\n\u001b[1;32m      1\u001b[0m \u001b[0;32mfrom\u001b[0m \u001b[0mbase\u001b[0m\u001b[0;34m.\u001b[0m\u001b[0minterface\u001b[0m\u001b[0;34m.\u001b[0m\u001b[0mgateway\u001b[0m\u001b[0;34m.\u001b[0m\u001b[0mbaseprocessIF\u001b[0m \u001b[0;32mimport\u001b[0m \u001b[0mProcessIF\u001b[0m\u001b[0;34m\u001b[0m\u001b[0;34m\u001b[0m\u001b[0m\n\u001b[1;32m      2\u001b[0m \u001b[0;32mfrom\u001b[0m \u001b[0;34m.\u001b[0m\u001b[0mspecgridloaderIF\u001b[0m \u001b[0;32mimport\u001b[0m \u001b[0mBoszLoaderIF\u001b[0m\u001b[0;34m\u001b[0m\u001b[0;34m\u001b[0m\u001b[0m\n\u001b[0;32m----> 3\u001b[0;31m \u001b[0;32mfrom\u001b[0m \u001b[0;34m.\u001b[0m\u001b[0mspecgridparamIF\u001b[0m \u001b[0;32mimport\u001b[0m \u001b[0mSpecGridParamIF\u001b[0m\u001b[0;34m\u001b[0m\u001b[0;34m\u001b[0m\u001b[0m\n\u001b[0m\u001b[1;32m      4\u001b[0m \u001b[0;32mfrom\u001b[0m \u001b[0mspecgridlearn\u001b[0m\u001b[0;34m.\u001b[0m\u001b[0mcrust\u001b[0m\u001b[0;34m.\u001b[0m\u001b[0mpipeline\u001b[0m\u001b[0;34m.\u001b[0m\u001b[0mspecgridpipeline\u001b[0m \u001b[0;32mimport\u001b[0m \u001b[0mSpecGridPipeline\u001b[0m\u001b[0;34m\u001b[0m\u001b[0;34m\u001b[0m\u001b[0m\n\u001b[1;32m      5\u001b[0m \u001b[0;34m\u001b[0m\u001b[0m\n",
      "\u001b[0;32m~/PIML/PIML-SpecGridLearn/specgridlearn/gateway/specgridparamIF.py\u001b[0m in \u001b[0;36m<module>\u001b[0;34m\u001b[0m\n\u001b[1;32m      1\u001b[0m \u001b[0;32mfrom\u001b[0m \u001b[0mbase\u001b[0m\u001b[0;34m.\u001b[0m\u001b[0minterface\u001b[0m\u001b[0;34m.\u001b[0m\u001b[0mgateway\u001b[0m\u001b[0;34m.\u001b[0m\u001b[0mbaseparamIF\u001b[0m \u001b[0;32mimport\u001b[0m \u001b[0mMultiParamIF\u001b[0m\u001b[0;34m\u001b[0m\u001b[0;34m\u001b[0m\u001b[0m\n\u001b[0;32m----> 2\u001b[0;31m \u001b[0;32mfrom\u001b[0m \u001b[0mspec\u001b[0m\u001b[0;34m.\u001b[0m\u001b[0minterface\u001b[0m\u001b[0;34m.\u001b[0m\u001b[0mgateway\u001b[0m\u001b[0;34m.\u001b[0m\u001b[0mspecparamIF\u001b[0m \u001b[0;32mimport\u001b[0m \u001b[0mSpecParamIF\u001b[0m\u001b[0;34m\u001b[0m\u001b[0;34m\u001b[0m\u001b[0m\n\u001b[0m\u001b[1;32m      3\u001b[0m \u001b[0;32mfrom\u001b[0m \u001b[0mgrid\u001b[0m\u001b[0;34m.\u001b[0m\u001b[0minterface\u001b[0m\u001b[0;34m.\u001b[0m\u001b[0mgateway\u001b[0m\u001b[0;34m.\u001b[0m\u001b[0mgridparamIF\u001b[0m \u001b[0;32mimport\u001b[0m \u001b[0mGridParamIF\u001b[0m\u001b[0;34m\u001b[0m\u001b[0;34m\u001b[0m\u001b[0m\n\u001b[1;32m      4\u001b[0m \u001b[0;34m\u001b[0m\u001b[0m\n\u001b[1;32m      5\u001b[0m \u001b[0;32mclass\u001b[0m \u001b[0mSpecGridParamIF\u001b[0m\u001b[0;34m(\u001b[0m\u001b[0mMultiParamIF\u001b[0m\u001b[0;34m)\u001b[0m\u001b[0;34m:\u001b[0m\u001b[0;34m\u001b[0m\u001b[0;34m\u001b[0m\u001b[0m\n",
      "\u001b[0;31mImportError\u001b[0m: cannot import name 'SpecParamIF' from 'spec.interface.gateway.specparamIF' (/home/swei20/PIML/PIML-SpecGridLearn/spec/interface/gateway/specparamIF.py)"
     ]
    }
   ],
   "source": [
    "from specgridlearn.gateway.specgridpipelineIF import SpecGridPipelineIF"
   ]
  },
  {
   "cell_type": "code",
   "execution_count": null,
   "id": "b584affe-2c63-4005-9a2a-774b1b21b2ca",
   "metadata": {},
   "outputs": [],
   "source": [
    "PIF = SpecGridPipelineIF()"
   ]
  },
  {
   "cell_type": "code",
   "execution_count": null,
   "id": "791c8d2d-aa62-4222-b793-aa3a5f5e331c",
   "metadata": {},
   "outputs": [],
   "source": [
    "PIF.interact(PARAM)"
   ]
  },
  {
   "cell_type": "code",
   "execution_count": null,
   "id": "9ad0a180-8136-45c4-878f-7034a14ca901",
   "metadata": {},
   "outputs": [],
   "source": [
    "PIF.Object.__dict__"
   ]
  },
  {
   "cell_type": "code",
   "execution_count": 13,
   "id": "086291df-6336-495d-804f-1f4b20902eff",
   "metadata": {},
   "outputs": [
    {
     "data": {
      "text/plain": [
       "<bound method Obs.get_log_sigma of <spec.center.core.obs.baseobs.Obs object at 0x7f3283a279a0>>"
      ]
     },
     "execution_count": 13,
     "metadata": {},
     "output_type": "execute_result"
    }
   ],
   "source": [
    "PIF.Object.Obs.get_log_sigma"
   ]
  },
  {
   "cell_type": "code",
   "execution_count": null,
   "id": "2fbeb8bc-491d-4dc1-bb3c-7168ac8b2265",
   "metadata": {},
   "outputs": [],
   "source": [
    "np.digitize([7100,8850], wave)"
   ]
  }
 ],
 "metadata": {
  "kernelspec": {
   "display_name": "Python 3 [viska-tf28]",
   "language": "python",
   "name": "python3-viska-tf28"
  },
  "language_info": {
   "codemirror_mode": {
    "name": "ipython",
    "version": 3
   },
   "file_extension": ".py",
   "mimetype": "text/x-python",
   "name": "python",
   "nbconvert_exporter": "python",
   "pygments_lexer": "ipython3",
   "version": "3.9.7"
  }
 },
 "nbformat": 4,
 "nbformat_minor": 5
}
